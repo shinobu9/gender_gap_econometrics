{
 "cells": [
  {
   "cell_type": "code",
   "execution_count": 1,
   "id": "b8170507",
   "metadata": {},
   "outputs": [],
   "source": [
    "import numpy as np\n",
    "import pandas as pd\n",
    "import matplotlib.pyplot as plt\n",
    "import seaborn as sb\n",
    "import statsmodels.formula.api as smf\n",
    "import statsmodels.stats.api as sms\n",
    "from statsmodels.stats.outliers_influence import variance_inflation_factor  as vif"
   ]
  },
  {
   "cell_type": "code",
   "execution_count": 5,
   "id": "79b3eef8",
   "metadata": {},
   "outputs": [
    {
     "data": {
      "text/html": [
       "<div>\n",
       "<style scoped>\n",
       "    .dataframe tbody tr th:only-of-type {\n",
       "        vertical-align: middle;\n",
       "    }\n",
       "\n",
       "    .dataframe tbody tr th {\n",
       "        vertical-align: top;\n",
       "    }\n",
       "\n",
       "    .dataframe thead th {\n",
       "        text-align: right;\n",
       "    }\n",
       "</style>\n",
       "<table border=\"1\" class=\"dataframe\">\n",
       "  <thead>\n",
       "    <tr style=\"text-align: right;\">\n",
       "      <th></th>\n",
       "      <th>Unnamed: 0</th>\n",
       "      <th>salary</th>\n",
       "      <th>gender</th>\n",
       "      <th>experience</th>\n",
       "      <th>age</th>\n",
       "      <th>mariage_status</th>\n",
       "      <th>children</th>\n",
       "      <th>health_problems</th>\n",
       "      <th>health_lvl</th>\n",
       "      <th>education</th>\n",
       "      <th>workweek</th>\n",
       "      <th>work_field</th>\n",
       "      <th>has_subs</th>\n",
       "      <th>count_subs</th>\n",
       "    </tr>\n",
       "  </thead>\n",
       "  <tbody>\n",
       "    <tr>\n",
       "      <th>0</th>\n",
       "      <td>0</td>\n",
       "      <td>30000.0</td>\n",
       "      <td>1</td>\n",
       "      <td>25.0</td>\n",
       "      <td>49.0</td>\n",
       "      <td>0</td>\n",
       "      <td>1.0</td>\n",
       "      <td>0</td>\n",
       "      <td>2</td>\n",
       "      <td>0</td>\n",
       "      <td>45.0</td>\n",
       "      <td>ДРУГАЯ ОТРАСЛЬ ТЯЖЕЛОЙ ПРОМЫШЛЕННОСТИ</td>\n",
       "      <td>0</td>\n",
       "      <td>6.0</td>\n",
       "    </tr>\n",
       "    <tr>\n",
       "      <th>1</th>\n",
       "      <td>1</td>\n",
       "      <td>30000.0</td>\n",
       "      <td>0</td>\n",
       "      <td>21.0</td>\n",
       "      <td>47.0</td>\n",
       "      <td>1</td>\n",
       "      <td>2.0</td>\n",
       "      <td>0</td>\n",
       "      <td>3</td>\n",
       "      <td>1</td>\n",
       "      <td>40.0</td>\n",
       "      <td>ОПЕРАЦИИ С НЕДВИЖИМОСТЬЮ</td>\n",
       "      <td>1</td>\n",
       "      <td>6.0</td>\n",
       "    </tr>\n",
       "    <tr>\n",
       "      <th>2</th>\n",
       "      <td>2</td>\n",
       "      <td>26000.0</td>\n",
       "      <td>1</td>\n",
       "      <td>4.0</td>\n",
       "      <td>26.0</td>\n",
       "      <td>0</td>\n",
       "      <td>2.0</td>\n",
       "      <td>1</td>\n",
       "      <td>2</td>\n",
       "      <td>0</td>\n",
       "      <td>40.0</td>\n",
       "      <td>ДРУГАЯ ОТРАСЛЬ ТЯЖЕЛОЙ ПРОМЫШЛЕННОСТИ</td>\n",
       "      <td>1</td>\n",
       "      <td>5.0</td>\n",
       "    </tr>\n",
       "  </tbody>\n",
       "</table>\n",
       "</div>"
      ],
      "text/plain": [
       "   Unnamed: 0   salary  gender  experience   age  mariage_status  children  \\\n",
       "0           0  30000.0       1        25.0  49.0               0       1.0   \n",
       "1           1  30000.0       0        21.0  47.0               1       2.0   \n",
       "2           2  26000.0       1         4.0  26.0               0       2.0   \n",
       "\n",
       "   health_problems  health_lvl  education  workweek  \\\n",
       "0                0           2          0      45.0   \n",
       "1                0           3          1      40.0   \n",
       "2                1           2          0      40.0   \n",
       "\n",
       "                              work_field  has_subs  count_subs  \n",
       "0  ДРУГАЯ ОТРАСЛЬ ТЯЖЕЛОЙ ПРОМЫШЛЕННОСТИ         0         6.0  \n",
       "1               ОПЕРАЦИИ С НЕДВИЖИМОСТЬЮ         1         6.0  \n",
       "2  ДРУГАЯ ОТРАСЛЬ ТЯЖЕЛОЙ ПРОМЫШЛЕННОСТИ         1         5.0  "
      ]
     },
     "execution_count": 5,
     "metadata": {},
     "output_type": "execute_result"
    }
   ],
   "source": [
    "df = pd.read_csv('readydata.csv')\n",
    "df.head(3)"
   ]
  },
  {
   "cell_type": "code",
   "execution_count": 34,
   "id": "ce2ec9ca",
   "metadata": {},
   "outputs": [
    {
     "data": {
      "image/png": "[encoded data removed]",
      "text/plain": [
       "<Figure size 432x288 with 1 Axes>"
      ]
     },
     "metadata": {
      "needs_background": "light"
     },
     "output_type": "display_data"
    }
   ],
   "source": [
    "# корреляция возраста и опыта работы\n",
    "plt.clf()\n",
    "sb.scatterplot(data=df, x=\"age\", y=\"experience\")\n",
    "plt.savefig('img/exp_age_corr.png')"
   ]
  },
  {
   "cell_type": "code",
   "execution_count": 33,
   "id": "c83bebfd",
   "metadata": {},
   "outputs": [
    {
     "data": {
      "image/png": "[encoded data removed]",
      "text/plain": [
       "<Figure size 432x288 with 1 Axes>"
      ]
     },
     "metadata": {
      "needs_background": "light"
     },
     "output_type": "display_data"
    }
   ],
   "source": [
    "# корреляция возраста и логарифма зп\n",
    "plt.clf()\n",
    "splot = sb.scatterplot(data=df, y=\"salary\", x=\"age\")\n",
    "splot.set(yscale=\"log\")\n",
    "# plt.show()\n",
    "plt.savefig('img/logsalsary_age_corr.png')"
   ]
  },
  {
   "cell_type": "code",
   "execution_count": 35,
   "id": "7cd3f965",
   "metadata": {},
   "outputs": [
    {
     "data": {
      "image/png": "[encoded data removed]",
      "text/plain": [
       "<Figure size 432x288 with 1 Axes>"
      ]
     },
     "metadata": {
      "needs_background": "light"
     },
     "output_type": "display_data"
    }
   ],
   "source": [
    "# корреляция возраста и логарифма зп\n",
    "plt.clf()\n",
    "splot = sb.scatterplot(data=df, y=\"salary\", x=\"experience\")\n",
    "splot.set(yscale=\"log\")\n",
    "# plt.show()\n",
    "plt.savefig('img/logsalsary_exp_corr.png')"
   ]
  },
  {
   "cell_type": "code",
   "execution_count": null,
   "id": "007cca4a",
   "metadata": {},
   "outputs": [],
   "source": []
  }
 ],
 "metadata": {
  "kernelspec": {
   "display_name": "Python 3",
   "language": "python",
   "name": "python3"
  },
  "language_info": {
   "codemirror_mode": {
    "name": "ipython",
    "version": 3
   },
   "file_extension": ".py",
   "mimetype": "text/x-python",
   "name": "python",
   "nbconvert_exporter": "python",
   "pygments_lexer": "ipython3",
   "version": "3.8.8"
  }
 },
 "nbformat": 4,
 "nbformat_minor": 5
}
