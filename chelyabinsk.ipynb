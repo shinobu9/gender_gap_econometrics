{
 "cells": [
  {
   "cell_type": "code",
   "execution_count": 5,
   "id": "98a618cb",
   "metadata": {},
   "outputs": [],
   "source": [
    "import pandas as pd"
   ]
  },
  {
   "cell_type": "code",
   "execution_count": 9,
   "id": "1c827225",
   "metadata": {},
   "outputs": [
    {
     "name": "stdout",
     "output_type": "stream",
     "text": [
      "Requirement already satisfied: pyreadstat in c:\\users\\ekamenskaya\\anaconda3\\lib\\site-packages (1.2.0)\n",
      "Requirement already satisfied: pandas>=1.2.0 in c:\\users\\ekamenskaya\\anaconda3\\lib\\site-packages (from pyreadstat) (1.2.4)\n",
      "Requirement already satisfied: numpy>=1.16.5 in c:\\users\\ekamenskaya\\anaconda3\\lib\\site-packages (from pandas>=1.2.0->pyreadstat) (1.20.1)\n",
      "Requirement already satisfied: python-dateutil>=2.7.3 in c:\\users\\ekamenskaya\\anaconda3\\lib\\site-packages (from pandas>=1.2.0->pyreadstat) (2.8.1)\n",
      "Requirement already satisfied: pytz>=2017.3 in c:\\users\\ekamenskaya\\anaconda3\\lib\\site-packages (from pandas>=1.2.0->pyreadstat) (2021.1)\n",
      "Requirement already satisfied: six>=1.5 in c:\\users\\ekamenskaya\\anaconda3\\lib\\site-packages (from python-dateutil>=2.7.3->pandas>=1.2.0->pyreadstat) (1.15.0)\n"
     ]
    }
   ],
   "source": [
    "!pip install pyreadstat"
   ]
  },
  {
   "cell_type": "code",
   "execution_count": 10,
   "id": "ca51731d",
   "metadata": {},
   "outputs": [],
   "source": [
    "df = pd.read_spss('r29i_os_54.sav')"
   ]
  },
  {
   "cell_type": "code",
   "execution_count": 11,
   "id": "d2e67ab5",
   "metadata": {},
   "outputs": [],
   "source": [
    "ch = df[df['region']=='Челябинск']"
   ]
  },
  {
   "cell_type": "code",
   "execution_count": 12,
   "id": "fb1750ca",
   "metadata": {},
   "outputs": [
    {
     "name": "stderr",
     "output_type": "stream",
     "text": [
      "<ipython-input-12-4608732e10ef>:1: SettingWithCopyWarning: \n",
      "A value is trying to be set on a copy of a slice from a DataFrame\n",
      "\n",
      "See the caveats in the documentation: https://pandas.pydata.org/pandas-docs/stable/user_guide/indexing.html#returning-a-view-versus-a-copy\n",
      "  ch.dropna(subset=['yj13.2'], axis='rows', inplace=True)\n"
     ]
    }
   ],
   "source": [
    "ch.dropna(subset=['yj13.2'], axis='rows', inplace=True)"
   ]
  },
  {
   "cell_type": "code",
   "execution_count": 13,
   "id": "6ba8fb98",
   "metadata": {},
   "outputs": [
    {
     "data": {
      "text/plain": [
       "((64, 718), (55, 718))"
      ]
     },
     "execution_count": 13,
     "metadata": {},
     "output_type": "execute_result"
    }
   ],
   "source": [
    "ch[(ch['yh5']=='ЖЕНСКИЙ')].shape, ch[(ch['yh5']=='МУЖСКОЙ')].shape"
   ]
  },
  {
   "cell_type": "markdown",
   "id": "950cf9b8",
   "metadata": {},
   "source": [
    "https://www.hse.ru/data/2021/10/10/1416934456/R29_ind_codebook.pdf - названия переменных. \n",
    "\n",
    "https://statecon.rea.ru/jour/article/view/1423/1204 - статья, на которую мы опираемся\n",
    "\n",
    "Данные, которые мы будем использовать:\n",
    "\n",
    "* lnw – натуральный логарифм среднемесячной заработной платы;\n",
    "* age – возраст работника;(yh6)\n",
    "* exp – стаж работы (yj73.3y);\n",
    "* gend – пол работника (1 – мужчина; 0 – женщина) (yh5);\n",
    "* stat– тип населенного пункта (1 – город; 0 – село)(yi1, yi3.- где родились; region - регион);\n",
    "* edu – уровень образования:\n",
    "* edu1 - (1 – среднее общее; 0 – остальные)(y_diplom);\n",
    "* edu2 - (1 – среднее профессиональное; 0 – остальные)(y_diplom);\n",
    "* gr – социально-профессиональная группа: gr1 (1 – руководители; 0 – остальные) (y_occup08);\n",
    "* gr2 (1 – специалисты высшего уровня квалификации; 0 – остальные группы) (y_occup08);\n",
    " \n",
    "Может стоит включить данные о национальности? (yi4)\n"
   ]
  },
  {
   "cell_type": "code",
   "execution_count": 14,
   "id": "eabe3c3c",
   "metadata": {},
   "outputs": [],
   "source": [
    "ch=ch.loc[(ch['yj13.2'] != 'ЗАТРУДНЯЮСЬ ОТВЕТИТЬ') & (ch['yj13.2'] != 'НЕТ ОТВЕТА') & (ch['yj13.2'] != 'ОТКАЗ ОТ ОТВЕТА')]"
   ]
  },
  {
   "cell_type": "code",
   "execution_count": 15,
   "id": "19aeb224",
   "metadata": {},
   "outputs": [],
   "source": [
    "filename = 'readydata.csv'\n",
    "ch.to_csv(filename, encoding='utf-8')"
   ]
  },
  {
   "cell_type": "code",
   "execution_count": 18,
   "id": "112ab52d",
   "metadata": {},
   "outputs": [],
   "source": [
    "ch = ch[['yj13.2', 'yh6', 'yh5', 'yi1', 'yi3', 'y_diplom', 'y_occup08']]"
   ]
  },
  {
   "cell_type": "code",
   "execution_count": null,
   "id": "853a0429",
   "metadata": {},
   "outputs": [],
   "source": []
  }
 ],
 "metadata": {
  "kernelspec": {
   "display_name": "Python 3",
   "language": "python",
   "name": "python3"
  },
  "language_info": {
   "codemirror_mode": {
    "name": "ipython",
    "version": 3
   },
   "file_extension": ".py",
   "mimetype": "text/x-python",
   "name": "python",
   "nbconvert_exporter": "python",
   "pygments_lexer": "ipython3",
   "version": "3.8.8"
  }
 },
 "nbformat": 4,
 "nbformat_minor": 5
}
